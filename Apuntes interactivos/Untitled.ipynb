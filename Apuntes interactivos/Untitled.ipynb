{
 "cells": [
  {
   "cell_type": "markdown",
   "metadata": {},
   "source": [
    "# Introducción"
   ]
  },
  {
   "cell_type": "markdown",
   "metadata": {},
   "source": [
    "La teoría de circuitos es un caso especial de la teoría de campos electromagnéticos. Aunque la teoría general de campos puede parecer un punto de partida apropiado para la investigación de las señales eléctricas, su aplicación, además de ser tediosa, requiere matemáticas avanzadas. Por lo tanto, haremos algunas suposiciones para simplificar los cálculos y emplearemos en su lugar la teoría de circuitos. Este enfoque presenta las siguientes ventajas:\n",
    "\n",
    "- soluciones sencillas (con la precisión suficiente) para problemas que serían extremadamente complicados si se empleara la teoría de campos. \n",
    "\n"
   ]
  },
  {
   "cell_type": "markdown",
   "metadata": {},
   "source": [
    "El objetivo de este libro es el análisis de circuitos eléctricos lineales, con parámetros concentrados, sin utilizar las teorías de campos, salvo una breve mención para analizar el acoplamiento electromagnético"
   ]
  }
 ],
 "metadata": {
  "hide_input": false,
  "kernelspec": {
   "display_name": "Python 3",
   "language": "python",
   "name": "python3"
  },
  "language_info": {
   "codemirror_mode": {
    "name": "ipython",
    "version": 3
   },
   "file_extension": ".py",
   "mimetype": "text/x-python",
   "name": "python",
   "nbconvert_exporter": "python",
   "pygments_lexer": "ipython3",
   "version": "3.6.9"
  }
 },
 "nbformat": 4,
 "nbformat_minor": 4
}
